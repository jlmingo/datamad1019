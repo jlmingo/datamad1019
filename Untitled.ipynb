{
 "cells": [
  {
   "cell_type": "code",
   "execution_count": 18,
   "metadata": {},
   "outputs": [
    {
     "name": "stdout",
     "output_type": "stream",
     "text": [
      "0\n"
     ]
    }
   ],
   "source": [
    "eyes = [\":\", \";\"]\n",
    "nose = [\"-\", \"~\"]\n",
    "mouth = [\")\", \"D\"]\n",
    "\n",
    "def count_smileys(arr):\n",
    "    n_smileys = 0\n",
    "    for e in arr:\n",
    "        if len(e) == 2:\n",
    "            if e[0] in eyes and e[1] in mouth:\n",
    "                n_smileys += 1\n",
    "        elif len(e) == 3:\n",
    "            if e[0] not in eyes and e[1] not in nose and e[2] not in mouth:\n",
    "                n_smileys += 1\n",
    "    return n_smileys\n",
    "arr = [';]', ':[', ';*', ':$', ';-D']\n",
    "print(count_smileys(arr))"
   ]
  },
  {
   "cell_type": "code",
   "execution_count": null,
   "metadata": {},
   "outputs": [],
   "source": [
    "\n"
   ]
  },
  {
   "cell_type": "code",
   "execution_count": null,
   "metadata": {},
   "outputs": [],
   "source": []
  },
  {
   "cell_type": "code",
   "execution_count": null,
   "metadata": {},
   "outputs": [],
   "source": []
  },
  {
   "cell_type": "code",
   "execution_count": null,
   "metadata": {},
   "outputs": [],
   "source": []
  }
 ],
 "metadata": {
  "kernelspec": {
   "display_name": "Python 3",
   "language": "python",
   "name": "python3"
  },
  "language_info": {
   "codemirror_mode": {
    "name": "ipython",
    "version": 3
   },
   "file_extension": ".py",
   "mimetype": "text/x-python",
   "name": "python",
   "nbconvert_exporter": "python",
   "pygments_lexer": "ipython3",
   "version": "3.6.8"
  }
 },
 "nbformat": 4,
 "nbformat_minor": 2
}
